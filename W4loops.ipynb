{
 "cells": [
  {
   "cell_type": "markdown",
   "metadata": {},
   "source": [
    "1. To print sum of n numbers according user input usonh LOOPS"
   ]
  },
  {
   "cell_type": "code",
   "execution_count": null,
   "metadata": {},
   "outputs": [],
   "source": [
    "num =int(input(\"Enter the no\\n\"))\n",
    "i=1\n",
    "sum=0\n",
    "while(i<=num):\n",
    "    sum =sum+i\n",
    "    i=i+1\n",
    "print('The sum of given no is ', sum)"
   ]
  },
  {
   "cell_type": "markdown",
   "metadata": {},
   "source": [
    "2. code for sum of given intiger "
   ]
  },
  {
   "cell_type": "code",
   "execution_count": null,
   "metadata": {},
   "outputs": [],
   "source": [
    "num =int(input(\"Enter the no\\n\"))\n",
    "sum=0\n",
    "while(num!=0):\n",
    "    temp=num%10\n",
    "    sum= sum + int(temp)\n",
    "    num=num/10\n",
    "print(\"the sum is \",sum)"
   ]
  },
  {
   "cell_type": "markdown",
   "metadata": {},
   "source": [
    "3. to print even/odd numbers "
   ]
  },
  {
   "cell_type": "code",
   "execution_count": null,
   "metadata": {},
   "outputs": [],
   "source": [
    "user=int(input(\"Enter no. range to print even numbers=\"))\n",
    "i=1\n",
    "while(i<=user):\n",
    "    if(i%2==0):\n",
    "        print(i)\n",
    "    i=i+1"
   ]
  },
  {
   "cell_type": "markdown",
   "metadata": {},
   "source": [
    "4. FOR LOOP\n",
    "   end=\" _space_\" use to print in horizontal way"
   ]
  },
  {
   "cell_type": "code",
   "execution_count": null,
   "metadata": {},
   "outputs": [],
   "source": [
    "num=int(input(\"Enter the TABLE NUMBER =\"))\n",
    "for i in range(1,11):\n",
    "    print(i ,\"x\", num,\"=\",i*num)"
   ]
  },
  {
   "cell_type": "markdown",
   "metadata": {},
   "source": [
    "5.code to find FACTORIAL of given no."
   ]
  },
  {
   "cell_type": "code",
   "execution_count": null,
   "metadata": {},
   "outputs": [],
   "source": [
    "fact_num=int(input(\"Enter the TABLE NUMBER =\"))\n",
    "if(fact_num==0):\n",
    "    1\n",
    "f=1\n",
    "for i in range(1,fact_num+1):\n",
    "    f=f*i\n",
    "print('factorial of',fact_num,'is',f)"
   ]
  },
  {
   "cell_type": "markdown",
   "metadata": {},
   "source": [
    "6. LOOP MAinapulation by using break ,pass ,continue ,else"
   ]
  },
  {
   "cell_type": "code",
   "execution_count": 13,
   "metadata": {},
   "outputs": [
    {
     "name": "stdout",
     "output_type": "stream",
     "text": [
      "M y   n a m e   i kuch aayega yha\n",
      "s   kuch aayega yha\n",
      "s u m i t   p r a j a p a t i "
     ]
    }
   ],
   "source": [
    "\n",
    "for letter in 'My name is sumit prajapati':\n",
    "    if letter=='s':\n",
    "        pass\n",
    "        print('kuch aayega yha')\n",
    "    print(letter , end=' ')\n",
    "        "
   ]
  }
 ],
 "metadata": {
  "kernelspec": {
   "display_name": "Python 3",
   "language": "python",
   "name": "python3"
  },
  "language_info": {
   "codemirror_mode": {
    "name": "ipython",
    "version": 3
   },
   "file_extension": ".py",
   "mimetype": "text/x-python",
   "name": "python",
   "nbconvert_exporter": "python",
   "pygments_lexer": "ipython3",
   "version": "3.11.3"
  },
  "orig_nbformat": 4
 },
 "nbformat": 4,
 "nbformat_minor": 2
}
