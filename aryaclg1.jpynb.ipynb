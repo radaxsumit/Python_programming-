{
 "cells": [
  {
   "cell_type": "code",
   "execution_count": 1,
   "metadata": {},
   "outputs": [
    {
     "name": "stdout",
     "output_type": "stream",
     "text": [
      "hello \n",
      "Don/t\n"
     ]
    }
   ],
   "source": [
    "print(\"hello \")\n",
    "print('Don/t')"
   ]
  },
  {
   "cell_type": "markdown",
   "metadata": {},
   "source": [
    "2.  To concatenation : to add 2 similar function for print"
   ]
  },
  {
   "cell_type": "code",
   "execution_count": 2,
   "metadata": {},
   "outputs": [
    {
     "name": "stdout",
     "output_type": "stream",
     "text": [
      "sumitprajapati\n"
     ]
    }
   ],
   "source": [
    "a ='sumit'\n",
    "b ='prajapati'\n",
    "print(a + b)\n"
   ]
  },
  {
   "cell_type": "code",
   "execution_count": 3,
   "metadata": {},
   "outputs": [
    {
     "name": "stdout",
     "output_type": "stream",
     "text": [
      "['False', 'None', 'True', 'and', 'as', 'assert', 'async', 'await', 'break', 'class', 'continue', 'def', 'del', 'elif', 'else', 'except', 'finally', 'for', 'from', 'global', 'if', 'import', 'in', 'is', 'lambda', 'nonlocal', 'not', 'or', 'pass', 'raise', 'return', 'try', 'while', 'with', 'yield']\n"
     ]
    }
   ],
   "source": [
    "import keyword\n",
    "\n",
    "print(keyword.kwlist)"
   ]
  },
  {
   "cell_type": "markdown",
   "metadata": {},
   "source": [
    "3. Operaters \n",
    ">Arithmatic (+,-,*,/,//(floor division remove no. afterwords point),%,**exponents )\n",
    "> Assigment (=,+=,!=,-=,*=)\n",
    "> comparision(>,<,>=,<=,!=)\n",
    "> logical (and , or ,not)\n",
    "> membership (in ,not in)\n",
    "> Bitwise (& ,|,^,<<,>>)"
   ]
  },
  {
   "cell_type": "code",
   "execution_count": null,
   "metadata": {},
   "outputs": [],
   "source": [
    "a=5\n",
    "a/=2\n",
    "print(a)"
   ]
  },
  {
   "cell_type": "code",
   "execution_count": null,
   "metadata": {},
   "outputs": [],
   "source": [
    "a =10 \n",
    "b =5\n",
    "\n",
    "print(a==b)\n",
    "a-=b\n",
    "print(a)\n",
    "a+=b\n",
    "print(a)"
   ]
  },
  {
   "cell_type": "code",
   "execution_count": null,
   "metadata": {},
   "outputs": [],
   "source": [
    "a=10\n",
    "b=5\n",
    "\n",
    "print(a&b)\n",
    "print(a|b)\n",
    "print(a^b)\n",
    "print(a>>b)"
   ]
  },
  {
   "cell_type": "code",
   "execution_count": null,
   "metadata": {},
   "outputs": [],
   "source": [
    "Name='sumit'\n",
    "print('su' in Name)\n",
    "print('xt' not in Name)"
   ]
  },
  {
   "cell_type": "markdown",
   "metadata": {},
   "source": [
    "DATA TYPES ////////////////////////\n",
    "\n",
    "1.Numeric (int , float, complex)\n",
    "2.Order (string ,list , tuple)\n",
    "3.Unorder (set , dictionary)"
   ]
  },
  {
   "cell_type": "code",
   "execution_count": null,
   "metadata": {},
   "outputs": [],
   "source": [
    "# 2.1 string /////////////////////////////////////////////////\n",
    "str= ('my name is sumit')\n",
    "# slicing\n",
    "print(len(str))\n",
    "print(str[3:7]) \n",
    "print(str[4])\n",
    "print(str[::2])\n",
    "\n",
    "str= str.split()\n",
    "print(str)\n",
    "f=print(str[::-1])\n",
    "print(str ,':',f)"
   ]
  },
  {
   "cell_type": "code",
   "execution_count": null,
   "metadata": {},
   "outputs": [],
   "source": [
    "# 2.2 list ////////////////////////////////////////////////////\n",
    "lis=[1,2,3.3,'sumit']\n",
    "print(lis)\n",
    "print(lis[0])\n",
    "print(lis[0:4])"
   ]
  },
  {
   "cell_type": "code",
   "execution_count": 1,
   "metadata": {},
   "outputs": [
    {
     "name": "stdout",
     "output_type": "stream",
     "text": [
      "(1, 2, 3.3, 4.5, 'sumit')\n",
      "<class 'tuple'>\n",
      "sumit\n",
      "('sumit', 4.5, 3.3, 2, 1)\n"
     ]
    }
   ],
   "source": [
    "# 2.3 tuple ///////////////////////////////////////////////////\n",
    "tuple =(1,2,3.3,4.5,'sumit')\n",
    "print(tuple)\n",
    "print(type(tuple))\n",
    "print(tuple[4])\n",
    "print(tuple[::-1])"
   ]
  },
  {
   "cell_type": "markdown",
   "metadata": {},
   "source": [
    "3rd. orderd\n",
    "3.1 Set\n",
    "3.2 Dictionary"
   ]
  },
  {
   "cell_type": "markdown",
   "metadata": {},
   "source": [
    "3.1 set:\n",
    ">mutable\n",
    ">unorder datatype\n",
    ">no duplicatipon \n",
    ">{}\n",
    ">can't use slicing\n",
    ">minimum 2 values should be passed"
   ]
  },
  {
   "cell_type": "code",
   "execution_count": null,
   "metadata": {},
   "outputs": [],
   "source": [
    "set ={2,2,3,4,4,\"sumit\"}\n",
    "s2 ={2,3,4}\n",
    "set.add('rada')\n",
    "\n",
    "c=set.difference(s2)\n",
    "print(c)\n",
    "\n",
    "d= set.isdisjoint(s2)\n",
    "print(d)\n",
    "\n",
    "e =s2.pop()\n",
    "print(e)\n",
    "\n",
    "print(set)\n",
    "for i in set:\n",
    "    print(i)"
   ]
  },
  {
   "cell_type": "markdown",
   "metadata": {},
   "source": [
    "3.2 Dictionary\n",
    ">use {}\n",
    "> key :\" value \" system"
   ]
  },
  {
   "cell_type": "code",
   "execution_count": null,
   "metadata": {},
   "outputs": [],
   "source": [
    "d ={\"1 \":\"YOu got 80 Points\" , \"2\":\"WOOW u won\",3:\"Better luck next time\" ,4:'lol'}\n",
    "print(\"key -value pair :\\n\",list(d.items())) \n",
    "# print(\"key -value pair :\\n\",tuple(d.items()))\n",
    "# print(d.keys(),':', d.values())\n",
    "for key ,value in d.items():\n",
    "    print(key,':', value)"
   ]
  }
 ],
 "metadata": {
  "kernelspec": {
   "display_name": "Python 3",
   "language": "python",
   "name": "python3"
  },
  "language_info": {
   "codemirror_mode": {
    "name": "ipython",
    "version": 3
   },
   "file_extension": ".py",
   "mimetype": "text/x-python",
   "name": "python",
   "nbconvert_exporter": "python",
   "pygments_lexer": "ipython3",
   "version": "3.11.3"
  },
  "orig_nbformat": 4
 },
 "nbformat": 4,
 "nbformat_minor": 2
}
