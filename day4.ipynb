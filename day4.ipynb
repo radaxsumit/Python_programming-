{
 "cells": [
  {
   "cell_type": "markdown",
   "metadata": {},
   "source": [
    "loops\n",
    "while"
   ]
  },
  {
   "cell_type": "code",
   "execution_count": null,
   "metadata": {},
   "outputs": [],
   "source": [
    "n = int(input(\"Enter the number=\\n\"))\n",
    "\n",
    "fact =1\n",
    "i=1\n",
    "while i<=n:\n",
    "    fact= fact*i\n",
    "    i=i+1\n",
    "\n",
    "print(fact)    "
   ]
  },
  {
   "cell_type": "code",
   "execution_count": null,
   "metadata": {},
   "outputs": [],
   "source": [
    "n = int(input(\"Enter the number=\\n\"))\n",
    "\n",
    "fact =1\n",
    "for i in range(1,n+1):\n",
    "    fact=fact*i\n",
    "print(fact)    \n"
   ]
  },
  {
   "cell_type": "code",
   "execution_count": null,
   "metadata": {},
   "outputs": [],
   "source": [
    "def add():\n",
    "    return 10\n",
    "a = add()\n",
    "print(a) "
   ]
  },
  {
   "cell_type": "code",
   "execution_count": null,
   "metadata": {},
   "outputs": [],
   "source": [
    "n =int(input(\"Enter any no::\"))\n",
    "ev_od =lambda a: 'no. is even' if n%2==0  else 'No. is odd' \n",
    "print(ev_od(n))\n"
   ]
  },
  {
   "cell_type": "code",
   "execution_count": null,
   "metadata": {},
   "outputs": [],
   "source": [
    "def fact(n):\n",
    "    if n ==0:\n",
    "        return 1\n",
    "    else:\n",
    "        return n*fact(n-1)\n",
    "\n",
    "num =int(input(\"Enter any no::\"))\n",
    "print(fact(num))\n"
   ]
  },
  {
   "cell_type": "code",
   "execution_count": null,
   "metadata": {},
   "outputs": [],
   "source": [
    "import random\n",
    "print(random.gauss(1,10))\n",
    "print(random.gammavariate(1,10))\n",
    "print(random.betavariate(1,10))\n",
    "print(random.choices(1,10))\n",
    "print(random.getrandbits(1,10))\n",
    "print(random.getstate(1,10))\n",
    "print(random.shuffle(1,10))"
   ]
  },
  {
   "cell_type": "code",
   "execution_count": null,
   "metadata": {},
   "outputs": [],
   "source": [
    "import pickle\n",
    "\n",
    "name =['sumiy','hefh','dhuvhi']\n",
    "with open('sumit.ip')"
   ]
  }
 ],
 "metadata": {
  "kernelspec": {
   "display_name": "Python 3",
   "language": "python",
   "name": "python3"
  },
  "language_info": {
   "codemirror_mode": {
    "name": "ipython",
    "version": 3
   },
   "file_extension": ".py",
   "mimetype": "text/x-python",
   "name": "python",
   "nbconvert_exporter": "python",
   "pygments_lexer": "ipython3",
   "version": "3.11.3"
  },
  "orig_nbformat": 4
 },
 "nbformat": 4,
 "nbformat_minor": 2
}
