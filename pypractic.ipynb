{
 "cells": [
  {
   "cell_type": "code",
   "execution_count": null,
   "metadata": {},
   "outputs": [],
   "source": [
    "import keyword\n",
    "print(keyword.kwlist)"
   ]
  },
  {
   "cell_type": "code",
   "execution_count": null,
   "metadata": {},
   "outputs": [],
   "source": [
    "s='king is in the building '\n",
    "t=(1,2.3,12)\n",
    "\n",
    "# print(len(s))\n",
    "# s=s.split()\n",
    "# print(s)\n",
    "# s.append(t)\n",
    "# print(s)\n",
    "r_s=s[::-1]\n",
    "print(s,\":\",r_s)"
   ]
  },
  {
   "cell_type": "code",
   "execution_count": null,
   "metadata": {},
   "outputs": [],
   "source": [
    "list1=[2,3,4,5]\n",
    "list2=[]\n",
    "\n",
    "for i in list1:\n",
    "    list2.append(i*i)\n",
    "print(list1,':',list2)"
   ]
  },
  {
   "cell_type": "code",
   "execution_count": null,
   "metadata": {},
   "outputs": [],
   "source": [
    "# def add_num(n):\n",
    "#     sum=0\n",
    "#     i=1\n",
    "#     while i<=n:\n",
    "#         sum=sum+i\n",
    "#         i=i+1\n",
    "#     return sum\n",
    "\n",
    "# user=int(input(\"Eter number to get sum\"))\n",
    "# print(add_num(user))\n",
    "def add_num(n):\n",
    "    num = 0\n",
    "    while n > 0:\n",
    "        num =num+ n\n",
    "        n -= 1\n",
    "    return num\n",
    "\n",
    "user = int(input(\"Enter the number: \"))\n",
    "print(add_num(user))"
   ]
  },
  {
   "cell_type": "code",
   "execution_count": null,
   "metadata": {},
   "outputs": [],
   "source": [
    "s=input(\"Enter any string\")\n",
    "r=s.split()\n",
    "s_revers=' '.join(r[::-1])\n",
    "\n",
    "print(s,\":\",s_revers)\n"
   ]
  },
  {
   "cell_type": "code",
   "execution_count": 2,
   "metadata": {},
   "outputs": [
    {
     "name": "stdout",
     "output_type": "stream",
     "text": [
      "anime watch love i\n"
     ]
    }
   ],
   "source": [
    "s =\"i love watch anime\"\n",
    "s=s.split()\n",
    "s_rev=\" \".join(s[::-1])\n",
    "print(s_rev)\n"
   ]
  },
  {
   "cell_type": "code",
   "execution_count": null,
   "metadata": {},
   "outputs": [],
   "source": []
  },
  {
   "cell_type": "code",
   "execution_count": null,
   "metadata": {},
   "outputs": [],
   "source": [
    "tex=lambda a:a**3 \n",
    "print(tex(2))"
   ]
  },
  {
   "cell_type": "code",
   "execution_count": null,
   "metadata": {},
   "outputs": [],
   "source": [
    "ev_odd = lambda a :print(\"Even number\") if a%2==0 else print(\"odd num\")\n",
    "num = int(input(\"Enter any no. \"))\n",
    "(ev_odd(num))   \n",
    "\n",
    " "
   ]
  },
  {
   "cell_type": "code",
   "execution_count": null,
   "metadata": {},
   "outputs": [],
   "source": [
    "fact = lambda a : 1 if a<=1  else a*fact(a-1)\n",
    "number=int(input(\"Enter number for factorisl\"))\n",
    "print(fact(number))"
   ]
  }
 ],
 "metadata": {
  "kernelspec": {
   "display_name": "Python 3",
   "language": "python",
   "name": "python3"
  },
  "language_info": {
   "codemirror_mode": {
    "name": "ipython",
    "version": 3
   },
   "file_extension": ".py",
   "mimetype": "text/x-python",
   "name": "python",
   "nbconvert_exporter": "python",
   "pygments_lexer": "ipython3",
   "version": "3.11.3"
  },
  "orig_nbformat": 4
 },
 "nbformat": 4,
 "nbformat_minor": 2
}
